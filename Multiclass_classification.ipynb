{
  "cells": [
    {
      "cell_type": "markdown",
      "metadata": {
        "id": "view-in-github",
        "colab_type": "text"
      },
      "source": [
        "<a href=\"https://colab.research.google.com/github/20NN1A05F1/OIBSIP/blob/main/Multiclass_classification.ipynb\" target=\"_parent\"><img src=\"https://colab.research.google.com/assets/colab-badge.svg\" alt=\"Open In Colab\"/></a>"
      ]
    },
    {
      "cell_type": "code",
      "execution_count": null,
      "metadata": {
        "id": "Zqx0PBAIALpy"
      },
      "outputs": [],
      "source": [
        "import tensorflow as tf\n",
        "import numpy as np"
      ]
    },
    {
      "cell_type": "code",
      "execution_count": null,
      "metadata": {
        "id": "jTGEk4D0F18X"
      },
      "outputs": [],
      "source": [
        "from keras.datasets import reuters"
      ]
    },
    {
      "cell_type": "code",
      "execution_count": null,
      "metadata": {
        "colab": {
          "base_uri": "https://localhost:8080/"
        },
        "id": "MokrVrEyF7u4",
        "outputId": "af8176df-46d6-43d5-a8b2-d1fb4549216a"
      },
      "outputs": [
        {
          "name": "stdout",
          "output_type": "stream",
          "text": [
            "Downloading data from https://storage.googleapis.com/tensorflow/tf-keras-datasets/reuters.npz\n",
            "2110848/2110848 [==============================] - 1s 0us/step\n"
          ]
        }
      ],
      "source": [
        "(train_X, train_Y), (test_X, test_Y) = reuters.load_data(num_words=10000)"
      ]
    },
    {
      "cell_type": "code",
      "execution_count": null,
      "metadata": {
        "id": "vTyvApx6GIw6"
      },
      "outputs": [],
      "source": [
        "import numpy as np\n",
        "from keras.utils import to_categorical\n",
        "\n",
        "def OneHotEncoding_fn(ReutersData, dimension=10000):\n",
        "    OneHotEncoded_Data = np.zeros((len(ReutersData), dimension))\n",
        "    for i, sequence in enumerate(ReutersData):\n",
        "        OneHotEncoded_Data[i, sequence] = 1.\n",
        "    return OneHotEncoded_Data\n",
        "\n",
        "x_train = OneHotEncoding_fn(train_X)\n",
        "x_test = OneHotEncoding_fn(test_X)\n",
        "\n",
        "y_train = to_categorical(train_Y)\n",
        "y_test = to_categorical(test_Y)"
      ]
    },
    {
      "cell_type": "code",
      "execution_count": null,
      "metadata": {
        "id": "ofr_xIYCGTQT"
      },
      "outputs": [],
      "source": [
        "from keras import models\n",
        "from keras import layers\n",
        "\n",
        "model = models.Sequential()\n",
        "model.add(layers.Dense(64, activation='relu', input_shape=(10000,)))\n",
        "model.add(layers.Dense(64, activation='relu'))\n",
        "model.add(layers.Dense(46, activation='softmax'))"
      ]
    },
    {
      "cell_type": "code",
      "execution_count": null,
      "metadata": {
        "colab": {
          "background_save": true
        },
        "id": "94XUSeAiGbkl",
        "outputId": "fbbbc746-a11b-41bc-b6db-381163f266dd"
      },
      "outputs": [
        {
          "name": "stdout",
          "output_type": "stream",
          "text": [
            "Epoch 1/25\n",
            "16/16 [==============================] - 2s 73ms/step - loss: 2.6795 - categorical_accuracy: 0.5037 - val_loss: 1.8098 - val_categorical_accuracy: 0.6012\n",
            "Epoch 2/25\n",
            "16/16 [==============================] - 1s 53ms/step - loss: 1.5414 - categorical_accuracy: 0.6656 - val_loss: 1.3738 - val_categorical_accuracy: 0.6825\n",
            "Epoch 3/25\n",
            "16/16 [==============================] - 1s 50ms/step - loss: 1.1943 - categorical_accuracy: 0.7332 - val_loss: 1.1943 - val_categorical_accuracy: 0.7300\n",
            "Epoch 4/25\n",
            "16/16 [==============================] - 1s 52ms/step - loss: 0.9790 - categorical_accuracy: 0.7861 - val_loss: 1.0786 - val_categorical_accuracy: 0.7725\n",
            "Epoch 5/25\n",
            "16/16 [==============================] - 1s 50ms/step - loss: 0.8182 - categorical_accuracy: 0.8219 - val_loss: 0.9975 - val_categorical_accuracy: 0.7912\n",
            "Epoch 6/25\n",
            "16/16 [==============================] - 1s 51ms/step - loss: 0.6829 - categorical_accuracy: 0.8517 - val_loss: 0.9476 - val_categorical_accuracy: 0.7975\n",
            "Epoch 7/25\n",
            "16/16 [==============================] - 1s 70ms/step - loss: 0.5764 - categorical_accuracy: 0.8756 - val_loss: 0.9062 - val_categorical_accuracy: 0.7987\n",
            "Epoch 8/25\n",
            "16/16 [==============================] - 1s 90ms/step - loss: 0.4847 - categorical_accuracy: 0.8975 - val_loss: 0.8745 - val_categorical_accuracy: 0.8150\n",
            "Epoch 9/25\n",
            "16/16 [==============================] - 1s 75ms/step - loss: 0.4085 - categorical_accuracy: 0.9110 - val_loss: 0.8548 - val_categorical_accuracy: 0.8200\n",
            "Epoch 10/25\n",
            "16/16 [==============================] - 1s 50ms/step - loss: 0.3542 - categorical_accuracy: 0.9229 - val_loss: 0.9264 - val_categorical_accuracy: 0.7887\n",
            "Epoch 11/25\n",
            "16/16 [==============================] - 1s 51ms/step - loss: 0.3053 - categorical_accuracy: 0.9341 - val_loss: 0.8497 - val_categorical_accuracy: 0.8213\n",
            "Epoch 12/25\n",
            "16/16 [==============================] - 1s 51ms/step - loss: 0.2666 - categorical_accuracy: 0.9379 - val_loss: 0.8753 - val_categorical_accuracy: 0.8062\n",
            "Epoch 13/25\n",
            "16/16 [==============================] - 1s 51ms/step - loss: 0.2341 - categorical_accuracy: 0.9439 - val_loss: 0.8677 - val_categorical_accuracy: 0.8188\n",
            "Epoch 14/25\n",
            "16/16 [==============================] - 1s 51ms/step - loss: 0.2124 - categorical_accuracy: 0.9479 - val_loss: 0.8679 - val_categorical_accuracy: 0.8288\n",
            "Epoch 15/25\n",
            "16/16 [==============================] - 1s 49ms/step - loss: 0.1930 - categorical_accuracy: 0.9520 - val_loss: 0.8899 - val_categorical_accuracy: 0.8225\n",
            "Epoch 16/25\n",
            "16/16 [==============================] - 1s 54ms/step - loss: 0.1752 - categorical_accuracy: 0.9527 - val_loss: 0.9165 - val_categorical_accuracy: 0.8062\n",
            "Epoch 17/25\n",
            "16/16 [==============================] - 1s 49ms/step - loss: 0.1631 - categorical_accuracy: 0.9554 - val_loss: 0.9099 - val_categorical_accuracy: 0.8188\n",
            "Epoch 18/25\n",
            "16/16 [==============================] - 1s 49ms/step - loss: 0.1532 - categorical_accuracy: 0.9539 - val_loss: 0.9228 - val_categorical_accuracy: 0.8150\n",
            "Epoch 19/25\n",
            "16/16 [==============================] - 1s 48ms/step - loss: 0.1495 - categorical_accuracy: 0.9548 - val_loss: 0.9216 - val_categorical_accuracy: 0.8225\n",
            "Epoch 20/25\n",
            "16/16 [==============================] - 1s 51ms/step - loss: 0.1300 - categorical_accuracy: 0.9570 - val_loss: 0.9837 - val_categorical_accuracy: 0.8100\n",
            "Epoch 21/25\n",
            "16/16 [==============================] - 1s 52ms/step - loss: 0.1353 - categorical_accuracy: 0.9551 - val_loss: 0.9570 - val_categorical_accuracy: 0.8112\n",
            "Epoch 22/25\n",
            "16/16 [==============================] - 1s 91ms/step - loss: 0.1248 - categorical_accuracy: 0.9573 - val_loss: 0.9524 - val_categorical_accuracy: 0.8150\n",
            "Epoch 23/25\n",
            "16/16 [==============================] - 1s 86ms/step - loss: 0.1214 - categorical_accuracy: 0.9573 - val_loss: 1.0141 - val_categorical_accuracy: 0.8087\n",
            "Epoch 24/25\n",
            "16/16 [==============================] - 1s 56ms/step - loss: 0.1210 - categorical_accuracy: 0.9554 - val_loss: 1.0101 - val_categorical_accuracy: 0.8050\n",
            "Epoch 25/25\n",
            "16/16 [==============================] - 1s 47ms/step - loss: 0.1173 - categorical_accuracy: 0.9576 - val_loss: 0.9673 - val_categorical_accuracy: 0.8112\n"
          ]
        }
      ],
      "source": [
        "from keras import optimizers\n",
        "from keras import losses\n",
        "from keras import metrics\n",
        "\n",
        "X_validation = x_train[:800]\n",
        "X_train_without_val = x_train[800:]\n",
        "y_validation = y_train[:800]\n",
        "y_train_without_val = y_train[800:]\n",
        "\n",
        "\n",
        "model.compile(optimizer=optimizers.RMSprop(learning_rate=0.001, rho=0.9),\n",
        "             loss=losses.categorical_crossentropy,\n",
        "             metrics=[metrics.categorical_accuracy])\n",
        "\n",
        "history = model.fit(X_train_without_val,\n",
        "                    y_train_without_val,\n",
        "                    epochs=25,\n",
        "                    batch_size=512,\n",
        "                    validation_data=(X_validation,y_validation))\n"
      ]
    }
  ],
  "metadata": {
    "colab": {
      "provenance": [],
      "authorship_tag": "ABX9TyNeOb6c5D+0veHOSMlfyr0a",
      "include_colab_link": true
    },
    "kernelspec": {
      "display_name": "Python 3",
      "name": "python3"
    },
    "language_info": {
      "name": "python"
    }
  },
  "nbformat": 4,
  "nbformat_minor": 0
}